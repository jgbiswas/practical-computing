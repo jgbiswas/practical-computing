{
 "cells": [
  {
   "cell_type": "markdown",
   "id": "b03b1f98-fea8-4e2f-8f2c-26c7252d750f",
   "metadata": {},
   "source": [
    "# Assignment 02"
   ]
  },
  {
   "attachments": {},
   "cell_type": "markdown",
   "id": "16bf256a",
   "metadata": {},
   "source": [
    "Some of the problems in this assignment require additional files to test them. The sample files are created using `%%file` right after the problem desciption. \n",
    "\n",
    "Please clik on the `Run All Cells` menu item from the `Run` menu to execute all the cells and create the required files before you start solving the problems. Please note that you just need to do that only once."
   ]
  },
  {
   "cell_type": "markdown",
   "id": "51b4d2b2-6d73-4a5f-85a6-e4a1b8a2a3e4",
   "metadata": {},
   "source": [
    "## Problem 1: Digit Count"
   ]
  },
  {
   "attachments": {},
   "cell_type": "markdown",
   "id": "5bd354c1",
   "metadata": {},
   "source": [
    "Write a function `digit_count` that takes a number and a digit as argument and returns the number of times the digit is present in that number.\n",
    "\n",
    "```python\n",
    ">>> digit_count(1231, 1)\n",
    "2\n",
    ">>> digit_count(1231, 3)\n",
    "1\n",
    ">>> digit_count(1231, 9)\n",
    "0\n",
    "```\n",
    "\n",
    "**Hint:**\n",
    "\n",
    "```python\n",
    ">>> \"mathematics\".count(\"mat\")\n",
    "2\n",
    "```"
   ]
  },
  {
   "cell_type": "code",
   "execution_count": 97,
   "id": "930632aa",
   "metadata": {},
   "outputs": [],
   "source": [
    "def digit_count(n, d): \n",
    "    return str(n).count(str(d))\n",
    "\n"
   ]
  },
  {
   "cell_type": "code",
   "execution_count": 98,
   "id": "5ae4a893",
   "metadata": {},
   "outputs": [
    {
     "data": {
      "text/plain": [
       "2"
      ]
     },
     "execution_count": 98,
     "metadata": {},
     "output_type": "execute_result"
    }
   ],
   "source": [
    "digit_count(1231, 1)"
   ]
  },
  {
   "cell_type": "code",
   "execution_count": 99,
   "id": "0788982f",
   "metadata": {},
   "outputs": [
    {
     "data": {
      "text/plain": [
       "1"
      ]
     },
     "execution_count": 99,
     "metadata": {},
     "output_type": "execute_result"
    }
   ],
   "source": [
    "digit_count(1231, 2)"
   ]
  },
  {
   "cell_type": "code",
   "execution_count": 100,
   "id": "1b4bb6c3",
   "metadata": {},
   "outputs": [
    {
     "data": {
      "text/plain": [
       "0"
      ]
     },
     "execution_count": 100,
     "metadata": {},
     "output_type": "execute_result"
    }
   ],
   "source": [
    "digit_count(1231, 9)"
   ]
  },
  {
   "cell_type": "markdown",
   "id": "7b4e0faf",
   "metadata": {},
   "source": [
    "## Problem 2: Despace\n",
    "\n",
    "Write a function `despace` to remove all the spaces from a string.\n",
    "\n",
    "```python\n",
    ">>> despace(\"hello world\")\n",
    "'helloworld'\n",
    ">>> despace(\"a b c d e\")\n",
    "'abcde'\n",
    ">>> despace(\"pi seconds is a nano century\")\n",
    "'pisecondsisananocentury'\n",
    "```"
   ]
  },
  {
   "cell_type": "code",
   "execution_count": 101,
   "id": "3ca96d8b",
   "metadata": {},
   "outputs": [],
   "source": [
    "def despace(name):\n",
    "    return name.replace(\" \",\"\")"
   ]
  },
  {
   "cell_type": "code",
   "execution_count": 102,
   "id": "d924248a",
   "metadata": {},
   "outputs": [
    {
     "data": {
      "text/plain": [
       "'helloworld'"
      ]
     },
     "execution_count": 102,
     "metadata": {},
     "output_type": "execute_result"
    }
   ],
   "source": [
    "despace(\"hello world\")"
   ]
  },
  {
   "cell_type": "code",
   "execution_count": 103,
   "id": "4b4e4043",
   "metadata": {},
   "outputs": [
    {
     "data": {
      "text/plain": [
       "'abcde'"
      ]
     },
     "execution_count": 103,
     "metadata": {},
     "output_type": "execute_result"
    }
   ],
   "source": [
    "despace(\"a b c d e\")"
   ]
  },
  {
   "cell_type": "code",
   "execution_count": 104,
   "id": "f469a6fa-86fe-4bf3-82fa-069ca78986bb",
   "metadata": {},
   "outputs": [
    {
     "data": {
      "text/plain": [
       "'pisecondsisananocentury'"
      ]
     },
     "execution_count": 104,
     "metadata": {},
     "output_type": "execute_result"
    }
   ],
   "source": [
    "despace(\"pi seconds is a nano century\")"
   ]
  },
  {
   "attachments": {},
   "cell_type": "markdown",
   "id": "fa3a6d98",
   "metadata": {},
   "source": [
    "## Problem 3: Reverse Words"
   ]
  },
  {
   "attachments": {},
   "cell_type": "markdown",
   "id": "3f39a626",
   "metadata": {},
   "source": [
    "Write a function `reverse_words` that takes a sentence and returns a new sentence with all the words in the reserse order.\n",
    "\n",
    "```\n",
    ">>> reverse_words(\"joy of programming\")\n",
    "'programming of joy'\n",
    "\n",
    ">>> reverse_words(\"less is more\")\n",
    "'more is less'\n",
    "\n",
    ">>> reverse_words(\"road goes ever on and on\")\n",
    "'on and on ever goes road'\n",
    "```\n",
    "\n",
    "Please note that only the order of the words in the sentence is reversed, not the letters in each word."
   ]
  },
  {
   "cell_type": "code",
   "execution_count": 105,
   "id": "a1476745",
   "metadata": {},
   "outputs": [],
   "source": [
    "def reverse_words(sentence):\n",
    "    return \" \".join(sentence.split()[::-1])\n"
   ]
  },
  {
   "cell_type": "code",
   "execution_count": 106,
   "id": "0948f2fe",
   "metadata": {},
   "outputs": [
    {
     "data": {
      "text/plain": [
       "'programming of joy'"
      ]
     },
     "execution_count": 106,
     "metadata": {},
     "output_type": "execute_result"
    }
   ],
   "source": [
    "reverse_words(\"joy of programming\")"
   ]
  },
  {
   "cell_type": "code",
   "execution_count": 107,
   "id": "a06024a1",
   "metadata": {},
   "outputs": [
    {
     "data": {
      "text/plain": [
       "'more is less'"
      ]
     },
     "execution_count": 107,
     "metadata": {},
     "output_type": "execute_result"
    }
   ],
   "source": [
    "reverse_words(\"less is more\")"
   ]
  },
  {
   "cell_type": "code",
   "execution_count": 108,
   "id": "ff88ba14-4a53-44f9-8a0c-24c03f991724",
   "metadata": {},
   "outputs": [
    {
     "data": {
      "text/plain": [
       "'on and on ever goes road'"
      ]
     },
     "execution_count": 108,
     "metadata": {},
     "output_type": "execute_result"
    }
   ],
   "source": [
    "reverse_words(\"road goes ever on and on\")"
   ]
  },
  {
   "cell_type": "markdown",
   "id": "32667917",
   "metadata": {},
   "source": [
    "## Problem 4: Five Words"
   ]
  },
  {
   "attachments": {},
   "cell_type": "markdown",
   "id": "1252ac2c",
   "metadata": {},
   "source": [
    "Write a function `five_words` that takes a sentence as an argument and returns the part of the sentence with just the first five words.\n",
    "\n",
    "```\n",
    ">>> five_words(\"one two three four five six seven\")\n",
    "'one two three four five'\n",
    "\n",
    ">>> five_words(\"pi seconds is a nano century\")\n",
    "'pi seconds is a nano'\n",
    "\n",
    ">>> five_words(\"Anything that can go wrong, will go wrong.\")\n",
    "'Anythong that can go wrong,'\n",
    "\n",
    ">>> five_words(\"This is fun!\")\n",
    "'This is fun!'\n",
    "```\n",
    "\n",
    "Please note that if the sentence has less than 5 words, than it returns the same sentence."
   ]
  },
  {
   "cell_type": "code",
   "execution_count": 109,
   "id": "ef8afa72",
   "metadata": {},
   "outputs": [],
   "source": [
    "def five_words(sentence):\n",
    "    return \" \".join(sentence.split()[0:5:1])\n",
    "    "
   ]
  },
  {
   "cell_type": "code",
   "execution_count": 110,
   "id": "773af334",
   "metadata": {},
   "outputs": [
    {
     "data": {
      "text/plain": [
       "'pi seconds is a nano'"
      ]
     },
     "execution_count": 110,
     "metadata": {},
     "output_type": "execute_result"
    }
   ],
   "source": [
    "five_words(\"pi seconds is a nano\")"
   ]
  },
  {
   "cell_type": "code",
   "execution_count": 111,
   "id": "267eb1d4",
   "metadata": {},
   "outputs": [
    {
     "data": {
      "text/plain": [
       "'Anything that can go wrong,'"
      ]
     },
     "execution_count": 111,
     "metadata": {},
     "output_type": "execute_result"
    }
   ],
   "source": [
    "five_words(\"Anything that can go wrong, will go wrong.\")"
   ]
  },
  {
   "cell_type": "code",
   "execution_count": 112,
   "id": "8f7af87a",
   "metadata": {},
   "outputs": [
    {
     "data": {
      "text/plain": [
       "'This is fun!'"
      ]
     },
     "execution_count": 112,
     "metadata": {},
     "output_type": "execute_result"
    }
   ],
   "source": [
    "five_words(\"This is fun!\")"
   ]
  },
  {
   "attachments": {},
   "cell_type": "markdown",
   "id": "2d829ab6",
   "metadata": {},
   "source": [
    "## Problem 5: Get Extension"
   ]
  },
  {
   "attachments": {},
   "cell_type": "markdown",
   "id": "c3836718",
   "metadata": {},
   "source": [
    "Write a function `getext` that takes a filename as argument and returns the extension of the file. The suffix after the last `.` character in a filename is considered as the extension. For simplicity, assume that given filename will always have an extension.\n",
    "\n",
    "```\n",
    ">>> getext(\"hello.py\")\n",
    "'py'\n",
    ">>> getext(\"code.zip\")\n",
    "'zip'\n",
    ">>> getext(\"code.tar.gz\")\n",
    "'gz'"
   ]
  },
  {
   "cell_type": "code",
   "execution_count": 113,
   "id": "9e63bb55",
   "metadata": {},
   "outputs": [],
   "source": [
    "def getext(filename):\n",
    "    return filename.split(\".\")[-1]\n"
   ]
  },
  {
   "cell_type": "code",
   "execution_count": 114,
   "id": "e03b0756",
   "metadata": {},
   "outputs": [
    {
     "data": {
      "text/plain": [
       "'py'"
      ]
     },
     "execution_count": 114,
     "metadata": {},
     "output_type": "execute_result"
    }
   ],
   "source": [
    "getext(\"hello.py\")"
   ]
  },
  {
   "cell_type": "code",
   "execution_count": 115,
   "id": "d5b667e0",
   "metadata": {},
   "outputs": [
    {
     "data": {
      "text/plain": [
       "'zip'"
      ]
     },
     "execution_count": 115,
     "metadata": {},
     "output_type": "execute_result"
    }
   ],
   "source": [
    "getext(\"code.zip\")"
   ]
  },
  {
   "cell_type": "code",
   "execution_count": 116,
   "id": "3db75703-f0af-432a-97e2-d7d8d7ade5a5",
   "metadata": {},
   "outputs": [
    {
     "data": {
      "text/plain": [
       "'gz'"
      ]
     },
     "execution_count": 116,
     "metadata": {},
     "output_type": "execute_result"
    }
   ],
   "source": [
    "getext(\"code.tar.gz\")"
   ]
  },
  {
   "attachments": {},
   "cell_type": "markdown",
   "id": "382d67c7",
   "metadata": {},
   "source": [
    "## Problem 6: Print Upper"
   ]
  },
  {
   "attachments": {},
   "cell_type": "markdown",
   "id": "5c26bf0d",
   "metadata": {},
   "source": [
    "Write a function `print_upper` that takes a filename as argument and prints all the contents of the file in uppercase.\n",
    "\n",
    "```\n",
    ">>> print_upper(\"five.txt\")\n",
    "ONE\n",
    "TWO\n",
    "THREE\n",
    "FOUR\n",
    "FIVE\n",
    "```"
   ]
  },
  {
   "cell_type": "code",
   "execution_count": 117,
   "id": "ae3761e8",
   "metadata": {},
   "outputs": [
    {
     "name": "stdout",
     "output_type": "stream",
     "text": [
      "Overwriting five.txt\n"
     ]
    }
   ],
   "source": [
    "%%file five.txt\n",
    "one\n",
    "two\n",
    "three\n",
    "four\n",
    "five"
   ]
  },
  {
   "cell_type": "code",
   "execution_count": 118,
   "id": "95a38aef",
   "metadata": {},
   "outputs": [],
   "source": [
    "def print_upper(filename):\n",
    "    return print(open(filename).read().upper())"
   ]
  },
  {
   "cell_type": "code",
   "execution_count": 119,
   "id": "739ea19b",
   "metadata": {},
   "outputs": [
    {
     "name": "stdout",
     "output_type": "stream",
     "text": [
      "ONE\n",
      "TWO\n",
      "THREE\n",
      "FOUR\n",
      "FIVE\n",
      "\n"
     ]
    }
   ],
   "source": [
    "print_upper(\"five.txt\")"
   ]
  },
  {
   "cell_type": "markdown",
   "id": "bde1101a-e6c6-4e2b-ab85-65b1381aca91",
   "metadata": {},
   "source": [
    "## Problem 7: largest number in file"
   ]
  },
  {
   "attachments": {},
   "cell_type": "markdown",
   "id": "c6e51caf",
   "metadata": {},
   "source": [
    "Write a function `largest_number_in_file` that takes a name of a file containing numbers as an arguments and returns largest number in that file.\n",
    "\n",
    "```\n",
    ">>> largest_number_in_file(\"5.txt\")\n",
    "5\n",
    ">>> largest_number_in_file(\"numbers.txt\")\n",
    "9\n",
    "```\n",
    "\n",
    "The sample input files are provided below.\n",
    "\n",
    "**Hint:**\n",
    "\n",
    "The built-in function `max` takes a list a numbers as arguments and returns the maximum among them.\n",
    "\n",
    "\n",
    "```\n",
    ">>> max([1, 2, 3, 4, 5])\n",
    "5\n",
    "```"
   ]
  },
  {
   "cell_type": "markdown",
   "id": "0fb43ac7",
   "metadata": {},
   "source": [
    "Sample Input Files:"
   ]
  },
  {
   "cell_type": "code",
   "execution_count": 73,
   "id": "3f2f56cf",
   "metadata": {},
   "outputs": [
    {
     "name": "stdout",
     "output_type": "stream",
     "text": [
      "Overwriting 5.txt\n"
     ]
    }
   ],
   "source": [
    "%%file 5.txt\n",
    "1\n",
    "2\n",
    "3\n",
    "4\n",
    "5\n",
    "10"
   ]
  },
  {
   "cell_type": "code",
   "execution_count": 80,
   "id": "3073901e",
   "metadata": {},
   "outputs": [
    {
     "name": "stdout",
     "output_type": "stream",
     "text": [
      "Overwriting numbers.txt\n"
     ]
    }
   ],
   "source": [
    "%%file numbers.txt\n",
    "6\n",
    "1\n",
    "9\n",
    "2 \n",
    "0\n",
    "5\n",
    "100"
   ]
  },
  {
   "cell_type": "markdown",
   "id": "9e37e4de",
   "metadata": {},
   "source": [
    "Your Code:"
   ]
  },
  {
   "cell_type": "code",
   "execution_count": 101,
   "id": "32ddbad2",
   "metadata": {},
   "outputs": [],
   "source": [
    "def largest_number_in_file(filename):\n",
    "        lines = open(filename).readlines()\n",
    "        return [int(line) for line in lines]"
   ]
  },
  {
   "cell_type": "code",
   "execution_count": 102,
   "id": "6d708562",
   "metadata": {},
   "outputs": [
    {
     "data": {
      "text/plain": [
       "[1, 2, 3, 4, 5, 10]"
      ]
     },
     "execution_count": 102,
     "metadata": {},
     "output_type": "execute_result"
    }
   ],
   "source": [
    "largest_number_in_file(\"5.txt\")"
   ]
  },
  {
   "cell_type": "code",
   "execution_count": 81,
   "id": "43fa53cf",
   "metadata": {},
   "outputs": [
    {
     "name": "stdout",
     "output_type": "stream",
     "text": [
      "9\n",
      "\n"
     ]
    }
   ],
   "source": [
    "largest_number_in_file(\"numbers.txt\")"
   ]
  },
  {
   "attachments": {},
   "cell_type": "markdown",
   "id": "5cf3c89e",
   "metadata": {
    "jp-MarkdownHeadingCollapsed": true
   },
   "source": [
    "## Problem 8: Word Count"
   ]
  },
  {
   "attachments": {},
   "cell_type": "markdown",
   "id": "2cad4174",
   "metadata": {},
   "source": [
    "Write a function `word_count` that takes a filename as an argument and returns the number of words present in that file.\n",
    "\n",
    "\n",
    "```\n",
    ">>> word_count(\"words.txt\")\n",
    "10\n",
    ">>> word_count(\"5.txt\")\n",
    "5\n",
    "```"
   ]
  },
  {
   "cell_type": "markdown",
   "id": "f89b01fb",
   "metadata": {},
   "source": [
    "Sample input files:"
   ]
  },
  {
   "cell_type": "code",
   "execution_count": 125,
   "id": "7cf01a94",
   "metadata": {},
   "outputs": [
    {
     "name": "stdout",
     "output_type": "stream",
     "text": [
      "Overwriting words.txt\n"
     ]
    }
   ],
   "source": [
    "%%file words.txt\n",
    "one\n",
    "one two\n",
    "one two three\n",
    "one two three four"
   ]
  },
  {
   "cell_type": "code",
   "execution_count": 126,
   "id": "71b4ca39",
   "metadata": {},
   "outputs": [
    {
     "name": "stdout",
     "output_type": "stream",
     "text": [
      "Overwriting 5.txt\n"
     ]
    }
   ],
   "source": [
    "%%file 5.txt\n",
    "1\n",
    "2\n",
    "3\n",
    "4\n",
    "5"
   ]
  },
  {
   "cell_type": "code",
   "execution_count": 127,
   "id": "8d08a923-d565-4439-9cb3-0e9975768a96",
   "metadata": {},
   "outputs": [],
   "source": [
    "def word_count(filename):\n",
    "    return len(open(filename).read().split())\n"
   ]
  },
  {
   "cell_type": "code",
   "execution_count": 128,
   "id": "059d146c-6933-492d-9152-88931234e6fc",
   "metadata": {},
   "outputs": [
    {
     "data": {
      "text/plain": [
       "5"
      ]
     },
     "execution_count": 128,
     "metadata": {},
     "output_type": "execute_result"
    }
   ],
   "source": [
    "word_count(\"5.txt\")"
   ]
  },
  {
   "cell_type": "code",
   "execution_count": 129,
   "id": "444353b0-e1a2-4f55-a430-6c9a4d618022",
   "metadata": {},
   "outputs": [
    {
     "data": {
      "text/plain": [
       "10"
      ]
     },
     "execution_count": 129,
     "metadata": {},
     "output_type": "execute_result"
    }
   ],
   "source": [
    "word_count(\"words.txt\")"
   ]
  },
  {
   "attachments": {},
   "cell_type": "markdown",
   "id": "d8660845",
   "metadata": {},
   "source": [
    "## Problem 9: List Files"
   ]
  },
  {
   "attachments": {},
   "cell_type": "markdown",
   "id": "89f82e05",
   "metadata": {},
   "source": [
    "Write a function `list_files` that takes path to a directory and an extension as arguments and returns the list of files in that directory that has the specified extension.\n",
    "\n",
    "```\n",
    ">>> list_files(\"testdata\", \"txt\")\n",
    "[\"a.txt\", \"b.txt\", \"c.txt\"]\n",
    "\n",
    ">>> list_files(\"testdata\", \"py\")\n",
    "[\"hello.py\", \"square.py\"]\n",
    "```"
   ]
  },
  {
   "attachments": {},
   "cell_type": "markdown",
   "id": "bd33a92d",
   "metadata": {},
   "source": [
    "The following commands create the required files for this problem."
   ]
  },
  {
   "cell_type": "code",
   "execution_count": 184,
   "id": "ae2e0715",
   "metadata": {},
   "outputs": [
    {
     "name": "stderr",
     "output_type": "stream",
     "text": [
      "A subdirectory or file testdata already exists.\n"
     ]
    }
   ],
   "source": [
    "!mkdir testdata\n",
    "!echo > testdata/a.txt\n",
    "!echo > testdata/b.txt\n",
    "!echo > testdata/c.txt\n",
    "!echo > testdata/hello.py\n",
    "!echo > testdata/square.py"
   ]
  },
  {
   "cell_type": "code",
   "execution_count": 190,
   "id": "9f852eb5-c9d2-4090-ae20-746dc04a5368",
   "metadata": {},
   "outputs": [],
   "source": [
    "import os"
   ]
  },
  {
   "cell_type": "code",
   "execution_count": 195,
   "id": "92a62843-22e9-456d-a99c-63feff1abd71",
   "metadata": {},
   "outputs": [
    {
     "data": {
      "text/plain": [
       "['a.txt', 'b.txt', 'c.txt', 'hello.py', 'square.py']"
      ]
     },
     "execution_count": 195,
     "metadata": {},
     "output_type": "execute_result"
    }
   ],
   "source": [
    "os.listdir(\"testdata\")"
   ]
  },
  {
   "cell_type": "code",
   "execution_count": 196,
   "id": "55c7242e",
   "metadata": {},
   "outputs": [],
   "source": [
    "def list_files(directory, extension):\n",
    "    return [f for f in os.listdir(directory) if f.endswith(extension)]  "
   ]
  },
  {
   "cell_type": "code",
   "execution_count": 198,
   "id": "422746b9",
   "metadata": {},
   "outputs": [
    {
     "data": {
      "text/plain": [
       "['a.txt', 'b.txt', 'c.txt']"
      ]
     },
     "execution_count": 198,
     "metadata": {},
     "output_type": "execute_result"
    }
   ],
   "source": [
    "list_files(\"testdata\", \".txt\")"
   ]
  },
  {
   "cell_type": "code",
   "execution_count": 199,
   "id": "2ffa7d07",
   "metadata": {},
   "outputs": [
    {
     "data": {
      "text/plain": [
       "['hello.py', 'square.py']"
      ]
     },
     "execution_count": 199,
     "metadata": {},
     "output_type": "execute_result"
    }
   ],
   "source": [
    "list_files(\"testdata\", \".py\")"
   ]
  },
  {
   "attachments": {},
   "cell_type": "markdown",
   "id": "2b9551f3",
   "metadata": {},
   "source": [
    "## Problem 10: Grep "
   ]
  },
  {
   "attachments": {},
   "cell_type": "markdown",
   "id": "848f6dd3",
   "metadata": {},
   "source": [
    "Write a function `grep` that takes a pattern and a filename as argument and returns all the lines that contain that pattern.\n",
    "\n",
    "```\n",
    ">>> grep('pipe', 'poem.txt')\n",
    "['So I piped with merry chear,\\n',\n",
    " 'Piper pipe that song again-\\n',\n",
    " 'So I piped, he wept to hear.\\n']\n",
    "\n",
    ">>> grep('hear', 'poem.txt')\n",
    "['So I piped with merry chear,\\n', \n",
    " 'So I piped, he wept to hear.\\n']\n",
    "```"
   ]
  },
  {
   "cell_type": "code",
   "execution_count": 1,
   "id": "a2b2a3ff",
   "metadata": {},
   "outputs": [
    {
     "name": "stdout",
     "output_type": "stream",
     "text": [
      "Overwriting poem.txt\n"
     ]
    }
   ],
   "source": [
    "%%file poem.txt\n",
    "Piping down the valleys wild\n",
    "Piping songs of pleasant glee\n",
    "On a cloud I saw a child.\n",
    "And he laughing said to me.\n",
    "\n",
    "Pipe a song about a Lamb;\n",
    "So I piped with merry chear,\n",
    "Piper pipe that song again-\n",
    "So I piped, he wept to hear."
   ]
  },
  {
   "cell_type": "code",
   "execution_count": 107,
   "id": "cd703291",
   "metadata": {},
   "outputs": [],
   "source": [
    "def grep(pattern, filename):\n",
    "    lines = open(filename).readlines()\n",
    "    for line in lines: \n",
    "        if line.count(pattern) > 0:\n",
    "           print(line)"
   ]
  },
  {
   "cell_type": "code",
   "execution_count": 141,
   "id": "cc74a744",
   "metadata": {},
   "outputs": [
    {
     "name": "stdout",
     "output_type": "stream",
     "text": [
      "So I piped with merry chear,\n",
      "\n",
      "Piper pipe that song again-\n",
      "\n",
      "So I piped, he wept to hear.\n",
      "\n"
     ]
    }
   ],
   "source": [
    "grep('pipe', 'poem.txt')\n"
   ]
  },
  {
   "cell_type": "code",
   "execution_count": 109,
   "id": "008550ec-0c88-4eea-a7e7-5661e6e4229e",
   "metadata": {},
   "outputs": [
    {
     "name": "stdout",
     "output_type": "stream",
     "text": [
      "So I piped with merry chear,\n",
      "\n",
      "So I piped, he wept to hear.\n",
      "\n"
     ]
    }
   ],
   "source": [
    "grep('hear', 'poem.txt')"
   ]
  },
  {
   "cell_type": "code",
   "execution_count": null,
   "id": "80e9bd50-5e42-4c96-a2f0-e0b2a022921f",
   "metadata": {},
   "outputs": [],
   "source": []
  }
 ],
 "metadata": {
  "kernelspec": {
   "display_name": "Python 3 (ipykernel)",
   "language": "python",
   "name": "python3"
  },
  "language_info": {
   "codemirror_mode": {
    "name": "ipython",
    "version": 3
   },
   "file_extension": ".py",
   "mimetype": "text/x-python",
   "name": "python",
   "nbconvert_exporter": "python",
   "pygments_lexer": "ipython3",
   "version": "3.11.7"
  }
 },
 "nbformat": 4,
 "nbformat_minor": 5
}
