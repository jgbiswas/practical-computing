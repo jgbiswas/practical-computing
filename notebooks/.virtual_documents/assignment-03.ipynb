











%%file countdown.py
import sys
n = int(sys.argv[1])
for i in range(n):
    print(n-i)
    


!python countdown.py 10








%%file sum.py
import sys
vector = [int(element) for element in sys.argv[1:]]
print(sum(vector))

    


!python sum.py 12 11 10 15








%%file five.txt
one
two
three
four
five


%%file uppercase.py
import sys
print(open(sys.argv[1]).read().upper())


!python uppercase.py five.txt








%%file a.txt
A1
A2
A3
A4


%%file b.txt
B1
B2
B3
B4
B5


%%file combine.py
import sys
lines = open(sys.argv[1]).readlines() + open(sys.argv[2]).readlines()
with open(sys.argv[3], "w") as f:
    for line in lines:
        f.write(line)
print(open(sys.argv[3]).read().strip())


!python combine.py a.txt b.txt ab.txt








%%file ten.txt
one
two
three
four
five
six
seven
eight
nine
ten


%%file reverse.py 
import sys
lines = open(sys.argv[1]).readlines()[::-1]
with open(sys.argv[1], "w") as f:
    for line in lines:
        f.write(line)
print(open(sys.argv[1]).read().strip())            


!python reverse.py ten.txt








import random
import string


def generate_password(n):
    mylist = string.ascii_letters + string.digits 
    return "".join([random.choice(mylist) for i in range(n)])
    
    


generate_password(25)








%%file fortune.txt
You will soon forget this.
%
Too much is just enough.
                -- Mark Twain, on whiskey
%
Q:      Why did the astrophysicist order three hamburgers?
A:      Because he was hungry.
%
You will be aided greatly by a person whom you thought to be unimportant.
%
Communicate!  It can't make things any worse.
%
It usually takes more than three weeks to prepare a good impromptu speech.
                -- Mark Twain
%
Write yourself a threatening letter and pen a defiant reply.
%
You should go home.
%
You are taking yourself far too seriously.
%
Q:      Do you know what the death rate around here is?
A:      One per person.
%
You need no longer worry about the future.  This time tomorrow you'll be dead.                


%%file fortune.py
import random
print(random.choice(open("fortune.txt").read().split("%")))




!python fortune.py








!python -m pip install requests


import requests


%%file fig.py
import sys
import requests
url = "https://figlet.apps.pipal.in/api/figlet"
params = {"text":sys.argv[1]}
print(requests.get(url, params=params).text)


!python fig.py Python


%%file nominatim.py
import sys
import requests
import json
url = "https://nominatim.openstreetmap.org/search"
params = {"text":sys.argv[1]}
output = requests.get(url, params=params).text
print(output)


!python nominatim.py bangalore








import sys
import requests


%%file dict.py
import sys
import requests
url = "https://api.dictionaryapi.dev/api/v2/entries/en"
params = {"text":sys.argv[1]}
output = requests.get(url, params=params).text
print(output)


!python dict.py hello
























