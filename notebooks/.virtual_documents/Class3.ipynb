











%%file hello.py
print("hello world")


ls


!python hello.py





%%file args.py
import sys
print(sys.argv)


!python args.py


!python args.py hello


!python args.py 1 2 3 


%%file square.py
import sys
# print(sys.argv)
n = int(sys.argv[1])
print(n * n)


!python square.py 12345








%%file add.py
import sys
n = int(sys.argv[1])
m = int(sys.argv[2])
print(n + m)


!python add.py 3 4





ls


%%file 10.txt
one
two
three
four
five
six
seven
eight
nine
ten
 


%%file head.py
import sys
filename = sys.argv[1]
print(open(filename).read().split("\n")[:5])



!python head.py 10.txt


!python -m pip install Pillow





!wget --version


!curl -k -o mushroom.jpg https://anandology.com/tmp/mushroom.jpg


from PIL import Image


img = Image.open("mushroom.jpg")


img


img.size


img.thumbnail((100, 100))


img


img.save("mushroom-small.jpg")


filename = "mushroom.jpg"
thumb_filename = filename.replace(".jpg", "small.jpg")
img = Image.open(filename)
img.thumbnail((100,100))
img.save(thumb_filename)
print("created thumbnail", thumb_filename)


%%file thumbnail.py
from PIL import Image
import sys
filename = sys.argv[1]


thumb_filename = filename.replace(".jpg", "small.jpg")

img = Image.open(filename)
img.thumbnail((100,100))
img.save(thumb_filename)
print("created thumbnail", thumb_filename)



!python thumbnail.py mushroom.jpg


import PIL
PIL.Image.open("mushroom-small.jpg")


f = open("a.txt", "w")
f.write("one\n")
f.write("two\n")
f.write("three\n")
f.close()


open("a.txt").read()


print(open("a.txt").read())


with open("a.txt", "w") as f:
    f.write("one\n")
    f.write("two\n")
    f.write("three\n")


with open("a.txt", "a") as f:
    f.write("four\n")


open("a.txt").read()


!curl -k -s https://anandology.com/tmp/hello.txt


!python -m pip install requests


import requests


url = "https://anandology.com/tmp/hello.txt"


requests.get(url).text


url = "https://figlet.apps.pipal.in/api/figlet?text=Python"


output = requests.get(url).text
print(output)


url = "http://figlet.apps.pipal.in/api/figlet"
params = {"text": "Python"}

output = requests.get(url, params = params).text
print(output)


def figlet(text):
    url = "http://figlet.apps.pipal.in/api/figlet"
    params = {"text": text}

    return requests.get(url, params = params).text



for i in range(5):
    print(figlet(i))


import json


value = [1, 2, 3, 4]
jsontext = json.dumps(value)
jsontext


print(jsontext)


json.loads(jsontext)


url = "https://numbers.apps.pipal.in/fibs"
params = {"n": 5, "format": "json"}
data = requests.get(url, params=params).json()
data














def sum_of_squares(x,y):
    return x*x + y*y


sum_of_squares(3,4)


sum_of_squares(2,5)








x = "Hello"


x.upper()


"Python".upper()








"mathematics".count("mat")


"mathematics".replace("mat", "rat")





sentence = "Anything that can go wrong, will go wrong"


sentence.split()





sentence.split(",")





def wordcount(sentence):
    return len(sentence.split())


wordcount(sentence)


wordcount("1 2 3")





".".join(["one", "two", "three"])


"".join(["one", "two", "three"])


" ".join(["one","two","three"])





ls


%%file three.txt
one
two
three


open("three.txt").read()


open("three.txt").readlines()





contents = open("three.txt").read()
print(contents.upper())





import time


time.asctime()


print(time.asctime())


%%file date.py
import time
print(time.asctime())


!python date.py





import time
time.asctime()


from time import asctime
asctime()


from time import asctime as mytime
mytime()





import os





os.listdir()


os.listdir("..")





os.listdir("/home")
#works only on unix


os.listdir("c:\\")











%%file args.py
import sys
print(sys.argv)


!python args.py


!python args.py hello world








%%file square.py
import sys
n = int(sys.argv[1])
print(n*n)


!python square.py 8





names = ["Alice", "Bob", "Charlie"]


len(names)


names[0]


for name in names:
    print("Hello", name)


numbers = [1, 2, 3, 4, 5]


sum(numbers)





def product(numbers):
    result = 1
    for n in numbers:
        result *= n
    return result



product([1,2,3,4])


numbers = [1, 2, 3, 4, 5]
numbers.append(6)





numbers





numbers + numbers


numbers * 3


def squares(numbers):
    result = []
    for n in numbers:
        result.append(n*n)
    return result


squares([1,2,3,4,5])


[n*n for n in numbers]





[n*n for n in range(10) if n%2 == 0]





sum([n*n for n in range(1000000) if n%2 == 0])





import os
[f for f in os.listdir() if f.endswith(".py")]








%%file sumfile.py
import sys
filename = sys.argv[1]
lines = open(filename).readlines()
print(lines)
numbers = [int(line) for line in lines]
print(numbers)
print(sum(numbers))


!python sumfile.py 5.txt





x = ["a", "b", "c", "d", "e", "f", "g", "h"]


x[0:2]


x[:2]


x[2:7:3]


x[:: -1]


x[-1]


sentence = 'one two three'
sentence.split()[-1]





import numpy as np


!python -m pip install numpy


!python -m pip install numpy matplotlib


import numpy as np


x = np.array([1,2,3,4,5])


x


x.dtype


x.shape



x+10


x*x



1/x








P = np.array([1,2,3,4,5])
Q = np.array([10,20,30,40,50])


def euclidean_distance(P,Q):
    d = P-Q
    return np.sqrt(np.sum(d*d))



euclidean_distance(P,Q)





!python -m pip install matplotlib


import numpy as np
import matplotlib.pyplot as plt





x = np.linspace(-10, 10, 100)
y = x*x


plt.plot(x,y)
plt.grid()
plt.title("$y = x^2$")


plt.plot(x, x*x, label="$x^2$")
plt.plot(x, 2*x, label="$2 x$")
plt.grid()
plt.legend()


plt.plot(x,y)
plt.grid()
plt.title("$x^2 + y^2 = 1$")








!python -m pip install pandas
    


import pandas as pd


ls *.csv


ls *.csv



df = pd.read_csv("un-min.csv")


df.head()


df.shape


df.describe()


df.set_index("country", inplace=True)


df.head()


df.GDPperCapita.head()


df.GDPperCapita.mean()


df.GDPperCapita.hist()


df.GDPperCapita.plot(kind="box")


df.GDPperCapita.sort_values(ascending=False).head(10)


df.sort_values("GDPperCapita", ascending=False).head(10)


df[df.GDPperCapita < 100]


df[df.GDPperCapita > 20000]


len(df[df.GDPperCapita > 20000])


df[df.GDPperCapita > 5000]


df[df.index == "India"]


df.plot(kind="scatter", x="GDPperCapita", y="infantMortality")


df[df.region == 'Africa']


df_region = df.groupby('region').mean()



df.region


df_region.GDPperCapita.plot(kind="barh")


df['lifeMean'] = (df.lifeMale + df.lifeFemale) / 2






