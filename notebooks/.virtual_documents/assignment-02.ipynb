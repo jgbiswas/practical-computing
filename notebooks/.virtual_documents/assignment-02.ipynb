











def digit_count(n, d): 
    return str(n).count(str(d))




digit_count(1231, 1)


digit_count(1231, 2)


digit_count(1231, 9)





def despace(name):
    return name.replace(" ","")


despace("hello world")


despace("a b c d e")


despace("pi seconds is a nano century")








def reverse_words(sentence):
    return " ".join(sentence.split()[::-1])



reverse_words("joy of programming")


reverse_words("less is more")


reverse_words("road goes ever on and on")








def five_words(sentence):
    return " ".join(sentence.split()[0:5:1])
    


five_words("pi seconds is a nano")


five_words("Anything that can go wrong, will go wrong.")


five_words("This is fun!")








def getext(filename):
    return filename.split(".")[-1]



getext("hello.py")


getext("code.zip")


getext("code.tar.gz")








%%file five.txt
one
two
three
four
five


def print_upper(filename):
    return print(open(filename).read().upper())


print_upper("five.txt")











%%file 5.txt
1
2
3
4
5
10


%%file numbers.txt
6
1
9
2 
0
5
105
100





def largest_number_in_file(filename):
        lines = open(filename).readlines()
        list = [int(line) for line in lines]
        print(max(list))


largest_number_in_file("5.txt")


largest_number_in_file("numbers.txt")











%%file words.txt
one
one two
one two three
one two three four


%%file 5.txt
1
2
3
4
5


def word_count(filename):
    return len(open(filename).read().split())


word_count("5.txt")


word_count("words.txt")











!mkdir testdata
!echo > testdata/a.txt
!echo > testdata/b.txt
!echo > testdata/c.txt
!echo > testdata/hello.py
!echo > testdata/square.py


import os


os.listdir("testdata")


def list_files(directory, extension):
    return [f for f in os.listdir(directory) if f.endswith(extension)]  


list_files("testdata", ".txt")


list_files("testdata", ".py")








%%file poem.txt
Piping down the valleys wild
Piping songs of pleasant glee
On a cloud I saw a child.
And he laughing said to me.

Pipe a song about a Lamb;
So I piped with merry chear,
Piper pipe that song again-
So I piped, he wept to hear.


def grep(pattern, filename):
    lines = open(filename).readlines()
    for line in lines: 
        if line.count(pattern) > 0:
           print(line)


grep('pipe', 'poem.txt')



grep('hear', 'poem.txt')


open("poem.txt").readlines()


def grep1(pattern, filename):
    return [line for line in open(filename).readlines() if line.count(pattern) > 0]


grep1('pipe', 'poem.txt')


grep1('hear', 'poem.txt')


def grep2(pattern, filename):
    lines = open(filename).readlines()
    for line in lines:
        if line.count(pattern): 
            print([line])


grep2('pipe', 'poem.txt')


grep2('hear', 'poem.txt')
