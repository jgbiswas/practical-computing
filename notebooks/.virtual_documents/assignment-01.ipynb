











"hello"


'hello'








"hello" + "world"


"hello" + "--" + "world"





name = "Alice"


message = "Hello, " + name + "!"


message


print(message)











"hello" * 5








'*' * 5














'a\nb'


print('a\nb')





print("*\n**\n***")





name1 = "Lay Zy"
name2 = "Eva Lu Ator"

print(name1 + "\n" + name2)











star = "*****"
print(star)





hyphen = '-' * 40
print(hyphen)





new = '@-' * 20 + '@'
print(new)





n = 25


new1 = '@-' * 40 + '@'
print(new1)





# pattern repeated in 5 lines with each pattern having 20 hyphens
m = 5
n = 20


new = '@-' * 20 + '@'
new2 = (new + "\n") * 5 
print(new2)














for i in range(5):
    print(i)








for i in range(10):
    print(i)
   
    








for i in range(2, 5):
    print(i)


for i in range(6,10):
    print(i)








for i in range(0, 10, 2):
    print(i)





for i in range(2, 20, 3):
    print(i)





for i in range(5, 0, -1):
    print(i)








for i in range(0, 100, 5):
    print(i)





for i in range(6):
    print('*' * i)





for i in range(5,0, -1):
    print('*' * i)





for i in range(6):
    print('@' + '-@' * i)





n = 5


for i in range(6):
    print('*' * i)
for i in range(4,0,-1):
    print('*' * i)









n = 5


for i in range(0,6,1):
    print('@' + i * '~@')
for i in range(4,-1,-1):
    print('@' + i * '~@')






