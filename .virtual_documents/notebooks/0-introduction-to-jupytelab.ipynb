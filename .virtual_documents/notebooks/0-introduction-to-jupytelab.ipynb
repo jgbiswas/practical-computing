























1 + 2








2 ** 10000



































!dir












!ls








!python --version


!pwd








%%file five.txt
one
two
three
four
five














%%file hello.py

print("hello world")


!python hello.py












