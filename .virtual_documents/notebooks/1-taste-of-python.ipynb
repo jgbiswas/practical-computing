


print("hello, world!")





print(1 + 2)





x = 1
y = 2
print(x + y)





x = 1
print(x)

x = "foo"
print(x)





1 + "2"





marks = 50

if marks > 35:
    print("pass")
else:
    print("fail")





numbers = [1, 2, 3, 4]

for n in numbers:
    print(n)
print("done")





# sum of squares of all even numbers below one million
sum([n*n for n in range(1000000) if n % 2 == 0])





# what is the lonest word in the dictioanary
max(open("/usr/share/dict/words"), key=len)





import requests

url = "https://api.github.com/search/repositories"
params = {
    "q": "maps language:python"
}

data = requests.get(url, params=params).json()

for repo in data['items'][:10]:
    print(repo['full_name'])
    print(repo['html_url'])



